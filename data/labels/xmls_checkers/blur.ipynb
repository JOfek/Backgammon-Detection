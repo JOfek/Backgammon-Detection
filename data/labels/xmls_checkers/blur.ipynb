{
 "cells": [
  {
   "cell_type": "code",
   "execution_count": 2,
   "metadata": {},
   "outputs": [],
   "source": [
    "import os\n",
    "for filename in os.listdir(os.getcwd()):\n",
    "    if not filename.endswith(\"xml\"):\n",
    "        continue\n",
    "    f = open(filename, \"r\")\n",
    "    lines = f.readlines()\n",
    "    f.close()\n",
    "    newlines = lines[0:13]\n",
    "    for i in range(13, len(lines)-1, 12):\n",
    "        if \"checker\" in lines[i+1]:\n",
    "            lines[i+1] = '\\t\\t<name>checker</name>\\n'\n",
    "            newlines += lines[i:i+12]\n",
    "    newlines += lines[-1:]\n",
    "    f = open(filename, \"w\")\n",
    "    f.writelines(newlines)\n",
    "    f.close()"
   ]
  }
 ],
 "metadata": {
  "kernelspec": {
   "display_name": "Python 3",
   "language": "python",
   "name": "python3"
  },
  "language_info": {
   "codemirror_mode": {
    "name": "ipython",
    "version": 3
   },
   "file_extension": ".py",
   "mimetype": "text/x-python",
   "name": "python",
   "nbconvert_exporter": "python",
   "pygments_lexer": "ipython3",
   "version": "3.6.9"
  }
 },
 "nbformat": 4,
 "nbformat_minor": 2
}
